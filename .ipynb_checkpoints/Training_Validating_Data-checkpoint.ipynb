{
 "cells": [
  {
   "cell_type": "markdown",
   "metadata": {
    "id": "yTk4riChYO9O"
   },
   "source": [
    "# ***Importing Dataset***"
   ]
  },
  {
   "cell_type": "code",
   "execution_count": 1,
   "metadata": {
    "colab": {
     "base_uri": "https://localhost:8080/"
    },
    "executionInfo": {
     "elapsed": 20929,
     "status": "ok",
     "timestamp": 1700981254854,
     "user": {
      "displayName": "Krish Aneja",
      "userId": "03087082131056919758"
     },
     "user_tz": -330
    },
    "id": "lDBdgBLyDzlF",
    "outputId": "ca8bbd41-b980-44d1-d046-785a85ad0eb6"
   },
   "outputs": [
    {
     "name": "stdout",
     "output_type": "stream",
     "text": [
      "Mounted at /content/drive\n"
     ]
    }
   ],
   "source": [
    "from google.colab import drive\n",
    "drive.mount('/content/drive')"
   ]
  },
  {
   "cell_type": "markdown",
   "metadata": {
    "id": "FE4tqua0ZlTg"
   },
   "source": [
    "# ***Importing Libraries***"
   ]
  },
  {
   "cell_type": "code",
   "execution_count": 45,
   "metadata": {
    "executionInfo": {
     "elapsed": 410,
     "status": "ok",
     "timestamp": 1700994534747,
     "user": {
      "displayName": "Krish Aneja",
      "userId": "03087082131056919758"
     },
     "user_tz": -330
    },
    "id": "vUFDHj2-aRbn"
   },
   "outputs": [],
   "source": [
    "import tensorflow as tf\n",
    "import matplotlib.pyplot as plt"
   ]
  },
  {
   "cell_type": "markdown",
   "metadata": {
    "id": "dFECSNHhhW3w"
   },
   "source": [
    "# ***Data Preprocessing***"
   ]
  },
  {
   "cell_type": "markdown",
   "metadata": {
    "id": "ihtQ2ayThdH3"
   },
   "source": [
    "## ***Training Image preprocessing***"
   ]
  },
  {
   "cell_type": "code",
   "execution_count": 5,
   "metadata": {
    "colab": {
     "base_uri": "https://localhost:8080/"
    },
    "executionInfo": {
     "elapsed": 1424,
     "status": "ok",
     "timestamp": 1700983762610,
     "user": {
      "displayName": "Krish Aneja",
      "userId": "03087082131056919758"
     },
     "user_tz": -330
    },
    "id": "DEl-44k4hbeo",
    "outputId": "102f0ac5-601e-4f43-a86d-33681b8a1610"
   },
   "outputs": [
    {
     "name": "stdout",
     "output_type": "stream",
     "text": [
      "Found 3115 files belonging to 36 classes.\n"
     ]
    }
   ],
   "source": [
    "#Using Tensorflow Keras\n",
    "training_set = tf.keras.utils.image_dataset_from_directory(\n",
    "    '/content/drive/MyDrive/Product Recognizer/train',\n",
    "    labels=\"inferred\",\n",
    "    label_mode=\"categorical\",\n",
    "    class_names=None,\n",
    "    color_mode=\"rgb\",\n",
    "    batch_size=32,\n",
    "    image_size=(64, 64),\n",
    "    shuffle=True,\n",
    "    seed=None,\n",
    "    validation_split=None,\n",
    "    subset=None,\n",
    "    interpolation=\"bilinear\",\n",
    "    follow_links=False,\n",
    "    crop_to_aspect_ratio=False\n",
    ")"
   ]
  },
  {
   "cell_type": "markdown",
   "metadata": {
    "id": "Y8-MK0dwiK6_"
   },
   "source": [
    "## ***Validation Image preprocessing***"
   ]
  },
  {
   "cell_type": "code",
   "execution_count": 6,
   "metadata": {
    "colab": {
     "base_uri": "https://localhost:8080/"
    },
    "executionInfo": {
     "elapsed": 2158,
     "status": "ok",
     "timestamp": 1700983814930,
     "user": {
      "displayName": "Krish Aneja",
      "userId": "03087082131056919758"
     },
     "user_tz": -330
    },
    "id": "qSyYZiwGiOix",
    "outputId": "f9b6139f-bdab-4d0e-908c-5d259de2eff9"
   },
   "outputs": [
    {
     "name": "stdout",
     "output_type": "stream",
     "text": [
      "Found 351 files belonging to 36 classes.\n"
     ]
    }
   ],
   "source": [
    "#Using Tensorflow Keras\n",
    "validation_set = tf.keras.utils.image_dataset_from_directory(\n",
    "    '/content/drive/MyDrive/Product Recognizer/validation',\n",
    "    labels=\"inferred\",\n",
    "    label_mode=\"categorical\",\n",
    "    class_names=None,\n",
    "    color_mode=\"rgb\",\n",
    "    batch_size=32,\n",
    "    image_size=(64, 64),\n",
    "    shuffle=True,\n",
    "    seed=None,\n",
    "    validation_split=None,\n",
    "    subset=None,\n",
    "    interpolation=\"bilinear\",\n",
    "    follow_links=False,\n",
    "    crop_to_aspect_ratio=False\n",
    ")"
   ]
  },
  {
   "cell_type": "markdown",
   "metadata": {
    "id": "hss_xjg3ibu3"
   },
   "source": [
    "# ***Building Model***"
   ]
  },
  {
   "cell_type": "code",
   "execution_count": 7,
   "metadata": {
    "executionInfo": {
     "elapsed": 3,
     "status": "ok",
     "timestamp": 1700983878235,
     "user": {
      "displayName": "Krish Aneja",
      "userId": "03087082131056919758"
     },
     "user_tz": -330
    },
    "id": "DWIR0mGpigie"
   },
   "outputs": [],
   "source": [
    "cnn = tf.keras.models.Sequential()"
   ]
  },
  {
   "cell_type": "markdown",
   "metadata": {
    "id": "IBcaZ9YTi47H"
   },
   "source": [
    "## ***Building Convolution Layer***"
   ]
  },
  {
   "cell_type": "code",
   "execution_count": 8,
   "metadata": {
    "executionInfo": {
     "elapsed": 4,
     "status": "ok",
     "timestamp": 1700984007804,
     "user": {
      "displayName": "Krish Aneja",
      "userId": "03087082131056919758"
     },
     "user_tz": -330
    },
    "id": "njpSYJUtizBu"
   },
   "outputs": [],
   "source": [
    "#Building Convolution and Pooling Layer\n",
    "cnn.add(tf.keras.layers.Conv2D(filters=32,kernel_size=3,padding='same',activation='relu',input_shape=[64,64,3]))\n",
    "cnn.add(tf.keras.layers.Conv2D(filters=32,kernel_size=3,activation='relu'))\n",
    "cnn.add(tf.keras.layers.MaxPool2D(pool_size=2,strides=2))"
   ]
  },
  {
   "cell_type": "code",
   "execution_count": 9,
   "metadata": {
    "executionInfo": {
     "elapsed": 424,
     "status": "ok",
     "timestamp": 1700984022155,
     "user": {
      "displayName": "Krish Aneja",
      "userId": "03087082131056919758"
     },
     "user_tz": -330
    },
    "id": "byhN-_anjFZ2"
   },
   "outputs": [],
   "source": [
    "cnn.add(tf.keras.layers.Dropout(0.25))"
   ]
  },
  {
   "cell_type": "code",
   "execution_count": 10,
   "metadata": {
    "executionInfo": {
     "elapsed": 685,
     "status": "ok",
     "timestamp": 1700984038316,
     "user": {
      "displayName": "Krish Aneja",
      "userId": "03087082131056919758"
     },
     "user_tz": -330
    },
    "id": "vntYTc1xjIDn"
   },
   "outputs": [],
   "source": [
    "#Adding more Convolution and Pooling Layer\n",
    "cnn.add(tf.keras.layers.Conv2D(filters=64,kernel_size=3,padding='same',activation='relu'))\n",
    "cnn.add(tf.keras.layers.Conv2D(filters=64,kernel_size=3,activation='relu'))\n",
    "cnn.add(tf.keras.layers.MaxPool2D(pool_size=2,strides=2))"
   ]
  },
  {
   "cell_type": "code",
   "execution_count": 11,
   "metadata": {
    "executionInfo": {
     "elapsed": 2,
     "status": "ok",
     "timestamp": 1700984050935,
     "user": {
      "displayName": "Krish Aneja",
      "userId": "03087082131056919758"
     },
     "user_tz": -330
    },
    "id": "EF4cXKgajMIu"
   },
   "outputs": [],
   "source": [
    "cnn.add(tf.keras.layers.Dropout(0.25))"
   ]
  },
  {
   "cell_type": "code",
   "execution_count": 12,
   "metadata": {
    "executionInfo": {
     "elapsed": 422,
     "status": "ok",
     "timestamp": 1700984084536,
     "user": {
      "displayName": "Krish Aneja",
      "userId": "03087082131056919758"
     },
     "user_tz": -330
    },
    "id": "tyfPC6EdjQjv"
   },
   "outputs": [],
   "source": [
    "cnn.add(tf.keras.layers.Flatten())"
   ]
  },
  {
   "cell_type": "code",
   "execution_count": 13,
   "metadata": {
    "executionInfo": {
     "elapsed": 2,
     "status": "ok",
     "timestamp": 1700984106807,
     "user": {
      "displayName": "Krish Aneja",
      "userId": "03087082131056919758"
     },
     "user_tz": -330
    },
    "id": "qorav2iHjZ5o"
   },
   "outputs": [],
   "source": [
    "cnn.add(tf.keras.layers.Dense(units=512,activation='relu'))"
   ]
  },
  {
   "cell_type": "code",
   "execution_count": 14,
   "metadata": {
    "executionInfo": {
     "elapsed": 2,
     "status": "ok",
     "timestamp": 1700984117392,
     "user": {
      "displayName": "Krish Aneja",
      "userId": "03087082131056919758"
     },
     "user_tz": -330
    },
    "id": "fmlmUedfjcVW"
   },
   "outputs": [],
   "source": [
    "cnn.add(tf.keras.layers.Dense(units=256,activation='relu'))"
   ]
  },
  {
   "cell_type": "code",
   "execution_count": 15,
   "metadata": {
    "executionInfo": {
     "elapsed": 398,
     "status": "ok",
     "timestamp": 1700984129359,
     "user": {
      "displayName": "Krish Aneja",
      "userId": "03087082131056919758"
     },
     "user_tz": -330
    },
    "id": "SX-AbAQVjfCn"
   },
   "outputs": [],
   "source": [
    "cnn.add(tf.keras.layers.Dropout(0.5))"
   ]
  },
  {
   "cell_type": "code",
   "execution_count": 16,
   "metadata": {
    "executionInfo": {
     "elapsed": 417,
     "status": "ok",
     "timestamp": 1700984140881,
     "user": {
      "displayName": "Krish Aneja",
      "userId": "03087082131056919758"
     },
     "user_tz": -330
    },
    "id": "PL4EblZ4jien"
   },
   "outputs": [],
   "source": [
    "cnn.add(tf.keras.layers.Dense(units=36,activation='softmax'))"
   ]
  },
  {
   "cell_type": "markdown",
   "metadata": {
    "id": "ALhfnYdWjl14"
   },
   "source": [
    "# ***Compiling and Training Phase***"
   ]
  },
  {
   "cell_type": "code",
   "execution_count": 20,
   "metadata": {
    "executionInfo": {
     "elapsed": 590,
     "status": "ok",
     "timestamp": 1700985395703,
     "user": {
      "displayName": "Krish Aneja",
      "userId": "03087082131056919758"
     },
     "user_tz": -330
    },
    "id": "Yl0d8DBDjoxu"
   },
   "outputs": [],
   "source": [
    "#Compiling the Model\n",
    "cnn.compile(optimizer='adam',loss='categorical_crossentropy',metrics=['accuracy'])"
   ]
  },
  {
   "cell_type": "code",
   "execution_count": 18,
   "metadata": {
    "colab": {
     "base_uri": "https://localhost:8080/"
    },
    "executionInfo": {
     "elapsed": 11,
     "status": "ok",
     "timestamp": 1700984215339,
     "user": {
      "displayName": "Krish Aneja",
      "userId": "03087082131056919758"
     },
     "user_tz": -330
    },
    "id": "SWEKpp2OjsSm",
    "outputId": "6dee93dc-321f-4d44-a3c5-e26c16611ecf"
   },
   "outputs": [
    {
     "name": "stdout",
     "output_type": "stream",
     "text": [
      "Model: \"sequential\"\n",
      "_________________________________________________________________\n",
      " Layer (type)                Output Shape              Param #   \n",
      "=================================================================\n",
      " conv2d (Conv2D)             (None, 64, 64, 32)        896       \n",
      "                                                                 \n",
      " conv2d_1 (Conv2D)           (None, 62, 62, 32)        9248      \n",
      "                                                                 \n",
      " max_pooling2d (MaxPooling2  (None, 31, 31, 32)        0         \n",
      " D)                                                              \n",
      "                                                                 \n",
      " dropout (Dropout)           (None, 31, 31, 32)        0         \n",
      "                                                                 \n",
      " conv2d_2 (Conv2D)           (None, 31, 31, 64)        18496     \n",
      "                                                                 \n",
      " conv2d_3 (Conv2D)           (None, 29, 29, 64)        36928     \n",
      "                                                                 \n",
      " max_pooling2d_1 (MaxPoolin  (None, 14, 14, 64)        0         \n",
      " g2D)                                                            \n",
      "                                                                 \n",
      " dropout_1 (Dropout)         (None, 14, 14, 64)        0         \n",
      "                                                                 \n",
      " flatten (Flatten)           (None, 12544)             0         \n",
      "                                                                 \n",
      " dense (Dense)               (None, 512)               6423040   \n",
      "                                                                 \n",
      " dense_1 (Dense)             (None, 256)               131328    \n",
      "                                                                 \n",
      " dropout_2 (Dropout)         (None, 256)               0         \n",
      "                                                                 \n",
      " dense_2 (Dense)             (None, 36)                9252      \n",
      "                                                                 \n",
      "=================================================================\n",
      "Total params: 6629188 (25.29 MB)\n",
      "Trainable params: 6629188 (25.29 MB)\n",
      "Non-trainable params: 0 (0.00 Byte)\n",
      "_________________________________________________________________\n"
     ]
    }
   ],
   "source": [
    "cnn.summary()"
   ]
  },
  {
   "cell_type": "code",
   "execution_count": 21,
   "metadata": {
    "colab": {
     "base_uri": "https://localhost:8080/"
    },
    "executionInfo": {
     "elapsed": 6041195,
     "status": "ok",
     "timestamp": 1700991439569,
     "user": {
      "displayName": "Krish Aneja",
      "userId": "03087082131056919758"
     },
     "user_tz": -330
    },
    "id": "ERGq2sF_j7Pu",
    "outputId": "6454066f-66d4-4e09-f014-9c75cd2091f8"
   },
   "outputs": [
    {
     "name": "stdout",
     "output_type": "stream",
     "text": [
      "Epoch 1/32\n",
      "98/98 [==============================] - 173s 2s/step - loss: 3.2721 - accuracy: 0.0726 - val_loss: 3.1172 - val_accuracy: 0.0912\n",
      "Epoch 2/32\n",
      "98/98 [==============================] - 172s 2s/step - loss: 3.2020 - accuracy: 0.0848 - val_loss: 2.9861 - val_accuracy: 0.1880\n",
      "Epoch 3/32\n",
      "98/98 [==============================] - 168s 2s/step - loss: 3.1505 - accuracy: 0.0934 - val_loss: 2.9068 - val_accuracy: 0.1937\n",
      "Epoch 4/32\n",
      "98/98 [==============================] - 169s 2s/step - loss: 2.9656 - accuracy: 0.1445 - val_loss: 2.4066 - val_accuracy: 0.4131\n",
      "Epoch 5/32\n",
      "98/98 [==============================] - 171s 2s/step - loss: 2.7848 - accuracy: 0.2087 - val_loss: 2.1040 - val_accuracy: 0.4758\n",
      "Epoch 6/32\n",
      "98/98 [==============================] - 176s 2s/step - loss: 2.5082 - accuracy: 0.2857 - val_loss: 1.5673 - val_accuracy: 0.6581\n",
      "Epoch 7/32\n",
      "98/98 [==============================] - 164s 2s/step - loss: 2.1597 - accuracy: 0.3920 - val_loss: 1.1511 - val_accuracy: 0.7293\n",
      "Epoch 8/32\n",
      "98/98 [==============================] - 172s 2s/step - loss: 1.7725 - accuracy: 0.4854 - val_loss: 0.8187 - val_accuracy: 0.8234\n",
      "Epoch 9/32\n",
      "98/98 [==============================] - 170s 2s/step - loss: 1.5005 - accuracy: 0.5740 - val_loss: 0.7059 - val_accuracy: 0.8462\n",
      "Epoch 10/32\n",
      "98/98 [==============================] - 173s 2s/step - loss: 1.2589 - accuracy: 0.6356 - val_loss: 0.6946 - val_accuracy: 0.8319\n",
      "Epoch 11/32\n",
      "98/98 [==============================] - 165s 2s/step - loss: 1.0653 - accuracy: 0.6896 - val_loss: 0.7366 - val_accuracy: 0.8547\n",
      "Epoch 12/32\n",
      "98/98 [==============================] - 172s 2s/step - loss: 0.9325 - accuracy: 0.7278 - val_loss: 0.4929 - val_accuracy: 0.8689\n",
      "Epoch 13/32\n",
      "98/98 [==============================] - 172s 2s/step - loss: 0.8031 - accuracy: 0.7685 - val_loss: 0.4940 - val_accuracy: 0.8860\n",
      "Epoch 14/32\n",
      "98/98 [==============================] - 165s 2s/step - loss: 0.7117 - accuracy: 0.8045 - val_loss: 0.4782 - val_accuracy: 0.8917\n",
      "Epoch 15/32\n",
      "98/98 [==============================] - 172s 2s/step - loss: 0.6066 - accuracy: 0.8247 - val_loss: 0.4956 - val_accuracy: 0.8974\n",
      "Epoch 16/32\n",
      "98/98 [==============================] - 173s 2s/step - loss: 0.5249 - accuracy: 0.8430 - val_loss: 0.4985 - val_accuracy: 0.8974\n",
      "Epoch 17/32\n",
      "98/98 [==============================] - 170s 2s/step - loss: 0.5747 - accuracy: 0.8340 - val_loss: 0.5021 - val_accuracy: 0.8974\n",
      "Epoch 18/32\n",
      "98/98 [==============================] - 168s 2s/step - loss: 0.4890 - accuracy: 0.8587 - val_loss: 0.4294 - val_accuracy: 0.9060\n",
      "Epoch 19/32\n",
      "98/98 [==============================] - 170s 2s/step - loss: 0.4805 - accuracy: 0.8575 - val_loss: 0.4360 - val_accuracy: 0.9145\n",
      "Epoch 20/32\n",
      "98/98 [==============================] - 165s 2s/step - loss: 0.4223 - accuracy: 0.8770 - val_loss: 0.4163 - val_accuracy: 0.9060\n",
      "Epoch 21/32\n",
      "98/98 [==============================] - 170s 2s/step - loss: 0.4384 - accuracy: 0.8751 - val_loss: 0.4044 - val_accuracy: 0.9088\n",
      "Epoch 22/32\n",
      "98/98 [==============================] - 172s 2s/step - loss: 0.3850 - accuracy: 0.8934 - val_loss: 0.4400 - val_accuracy: 0.9031\n",
      "Epoch 23/32\n",
      "98/98 [==============================] - 171s 2s/step - loss: 0.4049 - accuracy: 0.8851 - val_loss: 0.3638 - val_accuracy: 0.9174\n",
      "Epoch 24/32\n",
      "98/98 [==============================] - 170s 2s/step - loss: 0.3596 - accuracy: 0.8992 - val_loss: 0.3802 - val_accuracy: 0.9117\n",
      "Epoch 25/32\n",
      "98/98 [==============================] - 177s 2s/step - loss: 0.4192 - accuracy: 0.8851 - val_loss: 0.3698 - val_accuracy: 0.9231\n",
      "Epoch 26/32\n",
      "98/98 [==============================] - 172s 2s/step - loss: 0.3233 - accuracy: 0.9066 - val_loss: 0.3627 - val_accuracy: 0.9202\n",
      "Epoch 27/32\n",
      "98/98 [==============================] - 171s 2s/step - loss: 0.3049 - accuracy: 0.9152 - val_loss: 0.4374 - val_accuracy: 0.9202\n",
      "Epoch 28/32\n",
      "98/98 [==============================] - 177s 2s/step - loss: 0.3059 - accuracy: 0.9117 - val_loss: 0.3787 - val_accuracy: 0.9202\n",
      "Epoch 29/32\n",
      "98/98 [==============================] - 173s 2s/step - loss: 0.2811 - accuracy: 0.9156 - val_loss: 0.3982 - val_accuracy: 0.9202\n",
      "Epoch 30/32\n",
      "98/98 [==============================] - 162s 2s/step - loss: 0.3094 - accuracy: 0.9085 - val_loss: 0.3943 - val_accuracy: 0.9202\n",
      "Epoch 31/32\n",
      "98/98 [==============================] - 167s 2s/step - loss: 0.2855 - accuracy: 0.9233 - val_loss: 0.3473 - val_accuracy: 0.9231\n",
      "Epoch 32/32\n",
      "98/98 [==============================] - 163s 2s/step - loss: 0.2606 - accuracy: 0.9239 - val_loss: 0.3653 - val_accuracy: 0.9202\n"
     ]
    }
   ],
   "source": [
    "#Training Process\n",
    "training_history = cnn.fit(x=training_set,validation_data=validation_set,epochs=32)"
   ]
  },
  {
   "cell_type": "markdown",
   "metadata": {
    "id": "YM8_Tshslc0W"
   },
   "source": [
    "# ***Evaluating Model***"
   ]
  },
  {
   "cell_type": "code",
   "execution_count": 22,
   "metadata": {
    "colab": {
     "base_uri": "https://localhost:8080/"
    },
    "executionInfo": {
     "elapsed": 142383,
     "status": "ok",
     "timestamp": 1700991589292,
     "user": {
      "displayName": "Krish Aneja",
      "userId": "03087082131056919758"
     },
     "user_tz": -330
    },
    "id": "0rifvHDTlZ64",
    "outputId": "d22cb1d1-7adb-4e4b-c2db-e31663f3dfff"
   },
   "outputs": [
    {
     "name": "stdout",
     "output_type": "stream",
     "text": [
      "98/98 [==============================] - 95s 919ms/step - loss: 0.1260 - accuracy: 0.9602\n",
      "Training accuracy: 0.9601926207542419\n"
     ]
    }
   ],
   "source": [
    "#Calculating Training Accuracy\n",
    "train_loss, train_acc = cnn.evaluate(training_set)\n",
    "print('Training accuracy:', train_acc)"
   ]
  },
  {
   "cell_type": "code",
   "execution_count": 23,
   "metadata": {
    "colab": {
     "base_uri": "https://localhost:8080/"
    },
    "executionInfo": {
     "elapsed": 21230,
     "status": "ok",
     "timestamp": 1700991645638,
     "user": {
      "displayName": "Krish Aneja",
      "userId": "03087082131056919758"
     },
     "user_tz": -330
    },
    "id": "0KPQ_3DGlrvt",
    "outputId": "64640595-f0dd-406a-eea1-ae879ece4a86"
   },
   "outputs": [
    {
     "name": "stdout",
     "output_type": "stream",
     "text": [
      "11/11 [==============================] - 14s 453ms/step - loss: 0.3653 - accuracy: 0.9202\n",
      "Validation accuracy: 0.9202279448509216\n"
     ]
    }
   ],
   "source": [
    "#Calculating Validation Accuracy\n",
    "val_loss, val_acc = cnn.evaluate(validation_set)\n",
    "print('Validation accuracy:', val_acc)"
   ]
  },
  {
   "cell_type": "markdown",
   "metadata": {
    "id": "mI5La0fxltNV"
   },
   "source": [
    "## ***Saving Model***"
   ]
  },
  {
   "cell_type": "code",
   "execution_count": null,
   "metadata": {
    "id": "k8NaGR0pl0nm"
   },
   "outputs": [],
   "source": [
    "cnn.save('Trained_Model.h5')"
   ]
  },
  {
   "cell_type": "code",
   "execution_count": 25,
   "metadata": {
    "colab": {
     "base_uri": "https://localhost:8080/"
    },
    "executionInfo": {
     "elapsed": 396,
     "status": "ok",
     "timestamp": 1700991682988,
     "user": {
      "displayName": "Krish Aneja",
      "userId": "03087082131056919758"
     },
     "user_tz": -330
    },
    "id": "EEPgHk9Xl86F",
    "outputId": "e59f7d7d-b0fd-4850-9893-81bfc51b63b9"
   },
   "outputs": [
    {
     "data": {
      "text/plain": [
       "{'loss': [3.272062063217163,\n",
       "  3.2020163536071777,\n",
       "  3.150547981262207,\n",
       "  2.965611457824707,\n",
       "  2.784806489944458,\n",
       "  2.5082414150238037,\n",
       "  2.1597490310668945,\n",
       "  1.772530436515808,\n",
       "  1.50052809715271,\n",
       "  1.2589259147644043,\n",
       "  1.0652644634246826,\n",
       "  0.9325039982795715,\n",
       "  0.8030523657798767,\n",
       "  0.7117024660110474,\n",
       "  0.6065986156463623,\n",
       "  0.524878740310669,\n",
       "  0.5746893286705017,\n",
       "  0.4889702796936035,\n",
       "  0.48046666383743286,\n",
       "  0.42229634523391724,\n",
       "  0.4384419620037079,\n",
       "  0.38495728373527527,\n",
       "  0.4049089550971985,\n",
       "  0.35959210991859436,\n",
       "  0.4192174971103668,\n",
       "  0.3233429193496704,\n",
       "  0.304931640625,\n",
       "  0.30592674016952515,\n",
       "  0.28110218048095703,\n",
       "  0.3094382584095001,\n",
       "  0.2855445444583893,\n",
       "  0.2606349587440491],\n",
       " 'accuracy': [0.0725521668791771,\n",
       "  0.0847512036561966,\n",
       "  0.09341894090175629,\n",
       "  0.14446227252483368,\n",
       "  0.20866774022579193,\n",
       "  0.2857142984867096,\n",
       "  0.3919743299484253,\n",
       "  0.4853932559490204,\n",
       "  0.5739967823028564,\n",
       "  0.6356340050697327,\n",
       "  0.6895666122436523,\n",
       "  0.7277688384056091,\n",
       "  0.768539309501648,\n",
       "  0.8044943809509277,\n",
       "  0.8247190713882446,\n",
       "  0.8430176377296448,\n",
       "  0.8340288996696472,\n",
       "  0.8587480187416077,\n",
       "  0.8574638962745667,\n",
       "  0.877046525478363,\n",
       "  0.8751204013824463,\n",
       "  0.8934189677238464,\n",
       "  0.8850722312927246,\n",
       "  0.8991974592208862,\n",
       "  0.8850722312927246,\n",
       "  0.9065810441970825,\n",
       "  0.9152488112449646,\n",
       "  0.9117174744606018,\n",
       "  0.9155698418617249,\n",
       "  0.908507227897644,\n",
       "  0.9232744574546814,\n",
       "  0.9239165186882019],\n",
       " 'val_loss': [3.1171600818634033,\n",
       "  2.986116409301758,\n",
       "  2.9068336486816406,\n",
       "  2.4066317081451416,\n",
       "  2.1039798259735107,\n",
       "  1.567258358001709,\n",
       "  1.151070475578308,\n",
       "  0.8186977505683899,\n",
       "  0.7059348821640015,\n",
       "  0.6946238875389099,\n",
       "  0.736604630947113,\n",
       "  0.49288561940193176,\n",
       "  0.4939655065536499,\n",
       "  0.4781801104545593,\n",
       "  0.49561285972595215,\n",
       "  0.49851733446121216,\n",
       "  0.5020930171012878,\n",
       "  0.4294222295284271,\n",
       "  0.43597280979156494,\n",
       "  0.4162890613079071,\n",
       "  0.404354989528656,\n",
       "  0.4399574398994446,\n",
       "  0.36381325125694275,\n",
       "  0.3802141547203064,\n",
       "  0.3698005676269531,\n",
       "  0.3627210557460785,\n",
       "  0.43744605779647827,\n",
       "  0.37867340445518494,\n",
       "  0.3982321321964264,\n",
       "  0.39433401823043823,\n",
       "  0.34725451469421387,\n",
       "  0.365295946598053],\n",
       " 'val_accuracy': [0.09116809070110321,\n",
       "  0.18803419172763824,\n",
       "  0.19373218715190887,\n",
       "  0.41310539841651917,\n",
       "  0.47578346729278564,\n",
       "  0.6581196784973145,\n",
       "  0.7293447256088257,\n",
       "  0.8233618140220642,\n",
       "  0.8461538553237915,\n",
       "  0.8319088220596313,\n",
       "  0.8547008633613586,\n",
       "  0.8689458966255188,\n",
       "  0.8860399127006531,\n",
       "  0.8917378783226013,\n",
       "  0.8974359035491943,\n",
       "  0.8974359035491943,\n",
       "  0.8974359035491943,\n",
       "  0.9059829115867615,\n",
       "  0.9145299196243286,\n",
       "  0.9059829115867615,\n",
       "  0.9088318943977356,\n",
       "  0.9031339287757874,\n",
       "  0.9173789024353027,\n",
       "  0.9116809368133545,\n",
       "  0.9230769276618958,\n",
       "  0.9202279448509216,\n",
       "  0.9202279448509216,\n",
       "  0.9202279448509216,\n",
       "  0.9202279448509216,\n",
       "  0.9202279448509216,\n",
       "  0.9230769276618958,\n",
       "  0.9202279448509216]}"
      ]
     },
     "execution_count": 25,
     "metadata": {},
     "output_type": "execute_result"
    }
   ],
   "source": [
    "training_history.history"
   ]
  },
  {
   "cell_type": "code",
   "execution_count": 26,
   "metadata": {
    "executionInfo": {
     "elapsed": 402,
     "status": "ok",
     "timestamp": 1700991688759,
     "user": {
      "displayName": "Krish Aneja",
      "userId": "03087082131056919758"
     },
     "user_tz": -330
    },
    "id": "u5QX7JDBl_DW"
   },
   "outputs": [],
   "source": [
    "#Creating a .json file for storing the Training History\n",
    "import json\n",
    "with open('Training_History.json','w') as f:\n",
    "  json.dump(training_history.history,f)"
   ]
  },
  {
   "cell_type": "code",
   "execution_count": 27,
   "metadata": {
    "colab": {
     "base_uri": "https://localhost:8080/"
    },
    "executionInfo": {
     "elapsed": 428,
     "status": "ok",
     "timestamp": 1700991695206,
     "user": {
      "displayName": "Krish Aneja",
      "userId": "03087082131056919758"
     },
     "user_tz": -330
    },
    "id": "-SLTRgfGmB62",
    "outputId": "fd0803d0-62db-4ccd-8531-8c84e1ca405c"
   },
   "outputs": [
    {
     "name": "stdout",
     "output_type": "stream",
     "text": [
      "dict_keys(['loss', 'accuracy', 'val_loss', 'val_accuracy'])\n"
     ]
    }
   ],
   "source": [
    "print(training_history.history.keys())"
   ]
  },
  {
   "cell_type": "markdown",
   "metadata": {
    "id": "kvMuzl43mRzF"
   },
   "source": [
    "## ***Calculating Accuracy of Model Achieved on Validation set***"
   ]
  },
  {
   "cell_type": "code",
   "execution_count": 28,
   "metadata": {
    "colab": {
     "base_uri": "https://localhost:8080/"
    },
    "executionInfo": {
     "elapsed": 564,
     "status": "ok",
     "timestamp": 1700991701994,
     "user": {
      "displayName": "Krish Aneja",
      "userId": "03087082131056919758"
     },
     "user_tz": -330
    },
    "id": "wIpvRAP0mbBM",
    "outputId": "54d9f4dc-60b0-4c39-9d9d-14c630be2a81"
   },
   "outputs": [
    {
     "name": "stdout",
     "output_type": "stream",
     "text": [
      "Validation set Accuracy: 92.02279448509216 %\n"
     ]
    }
   ],
   "source": [
    "print(\"Validation set Accuracy: {} %\".format(training_history.history['val_accuracy'][-1]*100))"
   ]
  },
  {
   "cell_type": "markdown",
   "metadata": {
    "id": "WE9XZVCPmlaV"
   },
   "source": [
    "# ***Accuracy Visualization***"
   ]
  },
  {
   "cell_type": "markdown",
   "metadata": {
    "id": "xBtD4ZB7moj0"
   },
   "source": [
    "## ***Training Visualization***"
   ]
  },
  {
   "cell_type": "code",
   "execution_count": 29,
   "metadata": {
    "colab": {
     "base_uri": "https://localhost:8080/",
     "height": 472
    },
    "executionInfo": {
     "elapsed": 1252,
     "status": "ok",
     "timestamp": 1700991716432,
     "user": {
      "displayName": "Krish Aneja",
      "userId": "03087082131056919758"
     },
     "user_tz": -330
    },
    "id": "M7wGG6ipmnAU",
    "outputId": "1ca13749-901f-4f01-98b8-2d2e131cdcd1"
   },
   "outputs": [
    {
     "data": {
      "image/png": "[encoded data removed]",
      "text/plain": [
       "<Figure size 640x480 with 1 Axes>"
      ]
     },
     "metadata": {},
     "output_type": "display_data"
    }
   ],
   "source": [
    "epochs = [i for i in range(1,33)]\n",
    "plt.plot(epochs,training_history.history['accuracy'],color='black')\n",
    "plt.xlabel('No. of Epochs')\n",
    "plt.ylabel('Traiining Accuracy')\n",
    "plt.title('Visualization of Training Accuracy Result')\n",
    "plt.show()"
   ]
  },
  {
   "cell_type": "markdown",
   "metadata": {
    "id": "4QqXRMbXm0gs"
   },
   "source": [
    "## ***Validation Accuracy***"
   ]
  },
  {
   "cell_type": "code",
   "execution_count": 30,
   "metadata": {
    "colab": {
     "base_uri": "https://localhost:8080/",
     "height": 472
    },
    "executionInfo": {
     "elapsed": 596,
     "status": "ok",
     "timestamp": 1700991726651,
     "user": {
      "displayName": "Krish Aneja",
      "userId": "03087082131056919758"
     },
     "user_tz": -330
    },
    "id": "zEFxef2qm_98",
    "outputId": "5fbb3c4f-194d-4813-e327-725baec1e333"
   },
   "outputs": [
    {
     "data": {
      "image/png": "[encoded data removed]",
      "text/plain": [
       "<Figure size 640x480 with 1 Axes>"
      ]
     },
     "metadata": {},
     "output_type": "display_data"
    }
   ],
   "source": [
    "plt.plot(epochs,training_history.history['val_accuracy'],color='black')\n",
    "plt.xlabel('No. of Epochs')\n",
    "plt.ylabel('Validation Accuracy')\n",
    "plt.title('Visualization of Validation Accuracy Result')\n",
    "plt.show()"
   ]
  },
  {
   "cell_type": "markdown",
   "metadata": {
    "id": "txHAU61fnGVr"
   },
   "source": [
    "## ***Test Set Evaluation***"
   ]
  },
  {
   "cell_type": "code",
   "execution_count": 31,
   "metadata": {
    "colab": {
     "base_uri": "https://localhost:8080/"
    },
    "executionInfo": {
     "elapsed": 411,
     "status": "ok",
     "timestamp": 1700991737369,
     "user": {
      "displayName": "Krish Aneja",
      "userId": "03087082131056919758"
     },
     "user_tz": -330
    },
    "id": "sfkYqS_xnLgz",
    "outputId": "978a2989-f3ad-44ad-99c5-cd319603297a"
   },
   "outputs": [
    {
     "name": "stdout",
     "output_type": "stream",
     "text": [
      "Found 359 files belonging to 36 classes.\n"
     ]
    }
   ],
   "source": [
    "#Using Tensorflow Keras\n",
    "test_set = tf.keras.utils.image_dataset_from_directory(\n",
    "    '/content/drive/MyDrive/Product Recognizer/test',\n",
    "    labels=\"inferred\",\n",
    "    label_mode=\"categorical\",\n",
    "    class_names=None,\n",
    "    color_mode=\"rgb\",\n",
    "    batch_size=32,\n",
    "    image_size=(64, 64),\n",
    "    shuffle=True,\n",
    "    seed=None,\n",
    "    validation_split=None,\n",
    "    subset=None,\n",
    "    interpolation=\"bilinear\",\n",
    "    follow_links=False,\n",
    "    crop_to_aspect_ratio=False\n",
    ")"
   ]
  },
  {
   "cell_type": "code",
   "execution_count": 44,
   "metadata": {
    "colab": {
     "base_uri": "https://localhost:8080/"
    },
    "executionInfo": {
     "elapsed": 14322,
     "status": "ok",
     "timestamp": 1700994409494,
     "user": {
      "displayName": "Krish Aneja",
      "userId": "03087082131056919758"
     },
     "user_tz": -330
    },
    "id": "JTXgkqM4nYU9",
    "outputId": "ffadd583-c52e-4ce3-d635-9931d7f5801a"
   },
   "outputs": [
    {
     "name": "stdout",
     "output_type": "stream",
     "text": [
      "12/12 [==============================] - 14s 346ms/step - loss: 0.3572 - accuracy: 0.9220\n",
      "Model Accuracy: 92.20055937767029 %\n"
     ]
    }
   ],
   "source": [
    "#Final Accuracy of the Model\n",
    "test_loss,test_acc = cnn.evaluate(test_set)\n",
    "print('Model Accuracy:', test_acc*100,\"%\")"
   ]
  }
 ],
 "metadata": {
  "colab": {
   "authorship_tag": "ABX9TyM02pfw0SlRqdst6HvqUi3M",
   "provenance": []
  },
  "kernelspec": {
   "display_name": "Python 3 (ipykernel)",
   "language": "python",
   "name": "python3"
  },
  "language_info": {
   "codemirror_mode": {
    "name": "ipython",
    "version": 3
   },
   "file_extension": ".py",
   "mimetype": "text/x-python",
   "name": "python",
   "nbconvert_exporter": "python",
   "pygments_lexer": "ipython3",
   "version": "3.12.0"
  }
 },
 "nbformat": 4,
 "nbformat_minor": 4
}
